{
 "cells": [
  {
   "cell_type": "code",
   "execution_count": 1,
   "id": "10c019a4-529b-4b8a-9813-f0489af90fc9",
   "metadata": {},
   "outputs": [
    {
     "name": "stdout",
     "output_type": "stream",
     "text": [
      "!dlroW ,olleH\n"
     ]
    }
   ],
   "source": [
    "# 1. Write a code to reverse a string\n",
    "\n",
    "def reverse_string(s):\n",
    "    return s[::-1]\n",
    "\n",
    "# Example usage\n",
    "input_string = \"Hello, World!\"\n",
    "reversed_string = reverse_string(input_string)\n",
    "print(reversed_string)  # Output: !dlroW ,olleH"
   ]
  },
  {
   "cell_type": "code",
   "execution_count": 2,
   "id": "e5067dfa-0f07-4fdc-bce3-cd058975a879",
   "metadata": {},
   "outputs": [
    {
     "name": "stdout",
     "output_type": "stream",
     "text": [
      "Number of vowels: 3\n"
     ]
    }
   ],
   "source": [
    "# 2. Write a code to count the number of vowels in a string\n",
    "\n",
    "def count_vowels(s):\n",
    "    vowels = \"aeiouAEIOU\"\n",
    "    count = 0\n",
    "    for char in s:\n",
    "        if char in vowels:\n",
    "            count += 1\n",
    "    return count\n",
    "\n",
    "# Example usage\n",
    "input_string = \"Hello, World!\"\n",
    "vowel_count = count_vowels(input_string)\n",
    "print(f\"Number of vowels: {vowel_count}\")  # Output: Number of vowels: 3"
   ]
  },
  {
   "cell_type": "code",
   "execution_count": 3,
   "id": "428c3257-2796-4d8b-9c49-c8d7256176d4",
   "metadata": {},
   "outputs": [
    {
     "name": "stdout",
     "output_type": "stream",
     "text": [
      "True\n"
     ]
    }
   ],
   "source": [
    "#  3. Write a code to check if a given string is a palindrome or not\n",
    "\n",
    "\n",
    "def is_palindrome(s: str) -> bool:\n",
    "    # Remove any non-alphanumeric characters and convert to lowercase\n",
    "    cleaned_string = ''.join(c.lower() for c in s if c.isalnum())\n",
    "    # Compare the cleaned string with its reverse\n",
    "    return cleaned_string == cleaned_string[::-1]\n",
    "\n",
    "# Example usage\n",
    "test_string = \"A man, a plan, a canal, Panama\"\n",
    "print(is_palindrome(test_string))  # Output: True"
   ]
  },
  {
   "cell_type": "code",
   "execution_count": 4,
   "id": "02912dc3-e2fc-47e8-9040-668ce79b6847",
   "metadata": {},
   "outputs": [
    {
     "name": "stdout",
     "output_type": "stream",
     "text": [
      "True\n"
     ]
    }
   ],
   "source": [
    "# 4. Write a code to check if two given strings are anagrams of each other\u0012\n",
    "\n",
    "\n",
    "from collections import Counter\n",
    "\n",
    "def are_anagrams(str1: str, str2: str) -> bool:\n",
    "    # Remove any non-alphanumeric characters and convert to lowercase\n",
    "    cleaned_str1 = ''.join(c.lower() for c in str1 if c.isalnum())\n",
    "    cleaned_str2 = ''.join(c.lower() for c in str2 if c.isalnum())\n",
    "    \n",
    "    # Compare the character counts\n",
    "    return Counter(cleaned_str1) == Counter(cleaned_str2)\n",
    "\n",
    "# Example usage\n",
    "str1 = \"Listen\"\n",
    "str2 = \"Silent\"\n",
    "print(are_anagrams(str1, str2))  # Output: True\n"
   ]
  },
  {
   "cell_type": "code",
   "execution_count": 5,
   "id": "3dd07e91-49a6-427a-9c46-b67d081ddc20",
   "metadata": {},
   "outputs": [
    {
     "name": "stdout",
     "output_type": "stream",
     "text": [
      "[10, 21, 36]\n"
     ]
    }
   ],
   "source": [
    "# 5.  Write a code to find all occurrences of a given substring within another string\n",
    "\n",
    "def find_all_occurrences(text: str, substring: str) -> list:\n",
    "    indices = []\n",
    "    start = 0\n",
    "    \n",
    "    while True:\n",
    "        # Find the next occurrence of the substring\n",
    "        start = text.find(substring, start)\n",
    "        \n",
    "        # If find() returns -1, there are no more occurrences\n",
    "        if start == -1:\n",
    "            break\n",
    "        \n",
    "        # Append the index to the list\n",
    "        indices.append(start)\n",
    "        \n",
    "        # Move to the next character after this occurrence\n",
    "        start += 1\n",
    "    \n",
    "    return indices\n",
    "\n",
    "# Example usage\n",
    "text = \"This is a test. This test is only a test.\"\n",
    "substring = \"test\"\n",
    "print(find_all_occurrences(text, substring))  # Output: [10, 21, 34]\n",
    "\n"
   ]
  },
  {
   "cell_type": "code",
   "execution_count": 6,
   "id": "7104646f-7ceb-481c-9229-ec5060401752",
   "metadata": {},
   "outputs": [
    {
     "name": "stdout",
     "output_type": "stream",
     "text": [
      "a2b1c5a3\n"
     ]
    }
   ],
   "source": [
    "# 6. Write a code to perform basic string compression using the counts of repeated characters\n",
    "\n",
    "def compress_string(s: str) -> str:\n",
    "    # Return an empty string if the input is empty\n",
    "    if not s:\n",
    "        return \"\"\n",
    "    \n",
    "    compressed = []\n",
    "    count = 1\n",
    "    \n",
    "    for i in range(1, len(s)):\n",
    "        if s[i] == s[i - 1]:\n",
    "            count += 1\n",
    "        else:\n",
    "            compressed.append(s[i - 1] + str(count))\n",
    "            count = 1\n",
    "    \n",
    "    # Append the last character and its count\n",
    "    compressed.append(s[-1] + str(count))\n",
    "    \n",
    "    # Join the compressed parts into a single string\n",
    "    compressed_string = ''.join(compressed)\n",
    "    \n",
    "    # Return the original string if the compressed string is not shorter\n",
    "    return compressed_string if len(compressed_string) < len(s) else s\n",
    "\n",
    "# Example usage\n",
    "input_string = \"aabcccccaaa\"\n",
    "compressed_output = compress_string(input_string)\n",
    "print(compressed_output)  # Output: \"a2b1c5a3\"\n"
   ]
  },
  {
   "cell_type": "code",
   "execution_count": 8,
   "id": "f25f576b-a266-4992-abda-e98f44667b5c",
   "metadata": {},
   "outputs": [
    {
     "name": "stdout",
     "output_type": "stream",
     "text": [
      "True\n",
      "False\n"
     ]
    }
   ],
   "source": [
    "# 7. Write a code to determine if a string has all unique characters\n",
    "\n",
    "def has_all_unique_characters(s: str) -> bool:\n",
    "    # Create a set to store characters we've seen so far\n",
    "    seen_characters = set()\n",
    "    \n",
    "    for char in s:\n",
    "        if char in seen_characters:\n",
    "            return False  # Found a duplicate character\n",
    "        seen_characters.add(char)\n",
    "    \n",
    "    return True  # All characters are unique\n",
    "\n",
    "# Example usage\n",
    "input_string = \"abcdefg\"\n",
    "print(has_all_unique_characters(input_string))  # Output: True\n",
    "\n",
    "input_string = \"hello\"\n",
    "print(has_all_unique_characters(input_string))  # Output: False\n"
   ]
  },
  {
   "cell_type": "code",
   "execution_count": 9,
   "id": "ab711c7a-a6a6-4988-8550-44f873061b3b",
   "metadata": {},
   "outputs": [
    {
     "name": "stdout",
     "output_type": "stream",
     "text": [
      "HELLO, WORLD!\n",
      "hello, world!\n"
     ]
    }
   ],
   "source": [
    "# 8. Write a code to convert a given string to uppercase or lowercase\n",
    "\n",
    "def to_uppercase(s: str) -> str:\n",
    "    return s.upper()\n",
    "\n",
    "def to_lowercase(s: str) -> str:\n",
    "    return s.lower()\n",
    "\n",
    "# Example usage\n",
    "input_string = \"Hello, World!\"\n",
    "\n",
    "uppercase_string = to_uppercase(input_string)\n",
    "print(uppercase_string)  # Output: \"HELLO, WORLD!\"\n",
    "\n",
    "lowercase_string = to_lowercase(input_string)\n",
    "print(lowercase_string)  # Output: \"hello, world!\"\n"
   ]
  },
  {
   "cell_type": "code",
   "execution_count": 10,
   "id": "bd40239e-09d6-4bd4-8b5e-6f2399e8f5d0",
   "metadata": {},
   "outputs": [
    {
     "name": "stdout",
     "output_type": "stream",
     "text": [
      "7\n"
     ]
    }
   ],
   "source": [
    "# 9. Write a code to count the number of words in a string\n",
    "\n",
    "def count_words(s: str) -> int:\n",
    "    # Split the string into words based on whitespace\n",
    "    words = s.split()\n",
    "    # Return the number of words\n",
    "    return len(words)\n",
    "\n",
    "# Example usage\n",
    "input_string = \"Hello, world! This is a test string.\"\n",
    "word_count = count_words(input_string)\n",
    "print(word_count)  # Output: 7\n"
   ]
  },
  {
   "cell_type": "code",
   "execution_count": 11,
   "id": "50331fce-bc9f-40cd-bf5f-650b615baf37",
   "metadata": {},
   "outputs": [
    {
     "name": "stdout",
     "output_type": "stream",
     "text": [
      "Hello, World!\n"
     ]
    }
   ],
   "source": [
    "# 10. Write a code to concatenate two strings without using the + operator\n",
    "\n",
    "def concatenate_strings(str1: str, str2: str) -> str:\n",
    "    return ''.join([str1, str2])\n",
    "\n",
    "# Example usage\n",
    "string1 = \"Hello, \"\n",
    "string2 = \"World!\"\n",
    "result = concatenate_strings(string1, string2)\n",
    "print(result)  # Output: \"Hello, World!\"\n"
   ]
  },
  {
   "cell_type": "code",
   "execution_count": 14,
   "id": "a3cf1ecd-27c5-4097-b531-8bcf03b39678",
   "metadata": {},
   "outputs": [
    {
     "name": "stdout",
     "output_type": "stream",
     "text": [
      "[1, 2, 4, 2, 1]\n"
     ]
    }
   ],
   "source": [
    "# 11. Write a code to remove all occurrences of a specific element from a list\n",
    "\n",
    "\n",
    "def remove_all_occurrences(lst: list, element) -> list:\n",
    "    return [item for item in lst if item != element]\n",
    "\n",
    "# Example usage\n",
    "input_list = [1, 2, 3, 4, 3, 2, 1, 3]\n",
    "element_to_remove = 3\n",
    "result = remove_all_occurrences(input_list, element_to_remove)\n",
    "print(result)  # Output: [1, 2, 4, 2, 1]\n",
    "\n"
   ]
  },
  {
   "cell_type": "code",
   "execution_count": 16,
   "id": "ad40ebdc-7255-476f-832e-b11f14df20d9",
   "metadata": {},
   "outputs": [
    {
     "name": "stdout",
     "output_type": "stream",
     "text": [
      "45\n"
     ]
    }
   ],
   "source": [
    "# 12. implement a code to find the second largest number in a given list of integers\n",
    "\n",
    "def find_second_largest(nums: list) -> int:\n",
    "    if len(nums) < 2:\n",
    "        raise ValueError(\"List must contain at least two elements.\")\n",
    "    \n",
    "    first = second = float('-inf')\n",
    "    \n",
    "    for num in nums:\n",
    "        if num > first:\n",
    "            second = first\n",
    "            first = num\n",
    "        elif first > num > second:\n",
    "            second = num\n",
    "    \n",
    "    if second == float('-inf'):\n",
    "        raise ValueError(\"There is no second largest element in the list.\")\n",
    "    \n",
    "    return second\n",
    "\n",
    "# Example usage\n",
    "input_list = [10, 20, 4, 45, 99, 99]\n",
    "result = find_second_largest(input_list)\n",
    "print(result)  # Output: 45\n"
   ]
  },
  {
   "cell_type": "code",
   "execution_count": 17,
   "id": "ee86910b-3046-4e91-b833-e94db04aa4f1",
   "metadata": {},
   "outputs": [
    {
     "name": "stdout",
     "output_type": "stream",
     "text": [
      "{1: 4, 2: 3, 3: 2, 4: 1}\n"
     ]
    }
   ],
   "source": [
    "# 13. Create a code to count the occurrences of each element in a list and return a dictionary with elements as keys and their counts as values\n",
    "\n",
    "from collections import Counter\n",
    "\n",
    "def count_occurrences(lst):\n",
    "    # Use Counter to count occurrences of each element\n",
    "    occurrences = Counter(lst)\n",
    "    # Convert Counter to dictionary\n",
    "    occurrences_dict = dict(occurrences)\n",
    "    return occurrences_dict\n",
    "\n",
    "# Example usage\n",
    "my_list = [1, 2, 3, 4, 1, 2, 3, 1, 2, 1]\n",
    "result = count_occurrences(my_list)\n",
    "print(result)\n"
   ]
  },
  {
   "cell_type": "code",
   "execution_count": 18,
   "id": "39d37be2-6334-48db-9369-ec3737df532e",
   "metadata": {},
   "outputs": [
    {
     "name": "stdout",
     "output_type": "stream",
     "text": [
      "[5, 4, 3, 2, 1]\n"
     ]
    }
   ],
   "source": [
    "# 14. Write a code to reverse a list in-place without using any built-in reverse functions\n",
    "\n",
    "def reverse_list_in_place(lst):\n",
    "    # Get the length of the list\n",
    "    n = len(lst)\n",
    "    \n",
    "    # Iterate over the first half of the list\n",
    "    for i in range(n // 2):\n",
    "        # Swap elements from the beginning and end of the list\n",
    "        lst[i], lst[n - 1 - i] = lst[n - 1 - i], lst[i]\n",
    "\n",
    "# Example usage\n",
    "my_list = [1, 2, 3, 4, 5]\n",
    "reverse_list_in_place(my_list)\n",
    "print(my_list)  # Output: [5, 4, 3, 2, 1]\n"
   ]
  },
  {
   "cell_type": "code",
   "execution_count": 19,
   "id": "1f10365b-dcf1-4d7a-bf72-afa3fc1442da",
   "metadata": {},
   "outputs": [
    {
     "name": "stdout",
     "output_type": "stream",
     "text": [
      "[1, 2, 3, 4, 5]\n"
     ]
    }
   ],
   "source": [
    "# 15. Implement a code to find and remove duplicates from a list while preserving the original order of elements\n",
    "\n",
    "def remove_duplicates_preserve_order(lst):\n",
    "    # Initialize an empty dictionary to store unique elements\n",
    "    seen = {}\n",
    "    # Initialize an empty list to store unique elements in order\n",
    "    unique_elements = []\n",
    "\n",
    "    # Iterate through the list\n",
    "    for item in lst:\n",
    "        # If the item is not in the dictionary, add it to the dictionary and append it to the unique list\n",
    "        if item not in seen:\n",
    "            seen[item] = True\n",
    "            unique_elements.append(item)\n",
    "\n",
    "    return unique_elements\n",
    "\n",
    "# Example usage\n",
    "my_list = [1, 2, 3, 2, 4, 1, 5, 3]\n",
    "result = remove_duplicates_preserve_order(my_list)\n",
    "print(result)  # Output: [1, 2, 3, 4, 5]\n"
   ]
  },
  {
   "cell_type": "code",
   "execution_count": 20,
   "id": "987765a3-d3d7-4d5f-9888-70f5a1814862",
   "metadata": {},
   "outputs": [
    {
     "name": "stdout",
     "output_type": "stream",
     "text": [
      "True\n",
      "True\n",
      "False\n"
     ]
    }
   ],
   "source": [
    "# 16. Create a code to check if a given list is sorted (either in ascending or descending order) or not\n",
    "\n",
    "def is_sorted(lst):\n",
    "    # Check if the list is sorted in ascending order\n",
    "    ascending = all(lst[i] <= lst[i + 1] for i in range(len(lst) - 1))\n",
    "    # Check if the list is sorted in descending order\n",
    "    descending = all(lst[i] >= lst[i + 1] for i in range(len(lst) - 1))\n",
    "\n",
    "    # Return True if either ascending or descending order is satisfied\n",
    "    return ascending or descending\n",
    "\n",
    "# Example usage\n",
    "ascending_list = [1, 2, 3, 4, 5]\n",
    "descending_list = [5, 4, 3, 2, 1]\n",
    "random_list = [3, 1, 4, 2, 5]\n",
    "\n",
    "print(is_sorted(ascending_list))  # Output: True\n",
    "print(is_sorted(descending_list))  # Output: True\n",
    "print(is_sorted(random_list))     # Output: False\n"
   ]
  },
  {
   "cell_type": "code",
   "execution_count": 21,
   "id": "c700d73e-2586-4b9b-8f55-ee950e637db6",
   "metadata": {},
   "outputs": [
    {
     "name": "stdout",
     "output_type": "stream",
     "text": [
      "[1, 2, 3, 4, 5, 6, 7, 8, 9, 10]\n"
     ]
    }
   ],
   "source": [
    "# 17. Write a code to merge two sorted lists into a single sorted list\n",
    "\n",
    "def merge_sorted_lists(list1, list2):\n",
    "    # Initialize an empty list to store the merged sorted list\n",
    "    merged_list = []\n",
    "    \n",
    "    # Initialize pointers for both lists\n",
    "    i, j = 0, 0\n",
    "    \n",
    "    # Iterate through both lists until one of them is exhausted\n",
    "    while i < len(list1) and j < len(list2):\n",
    "        if list1[i] < list2[j]:\n",
    "            merged_list.append(list1[i])\n",
    "            i += 1\n",
    "        else:\n",
    "            merged_list.append(list2[j])\n",
    "            j += 1\n",
    "    \n",
    "    # Append the remaining elements from list1, if any\n",
    "    while i < len(list1):\n",
    "        merged_list.append(list1[i])\n",
    "        i += 1\n",
    "    \n",
    "    # Append the remaining elements from list2, if any\n",
    "    while j < len(list2):\n",
    "        merged_list.append(list2[j])\n",
    "        j += 1\n",
    "    \n",
    "    return merged_list\n",
    "\n",
    "# Example usage\n",
    "list1 = [1, 3, 5, 7, 9]\n",
    "list2 = [2, 4, 6, 8, 10]\n",
    "result = merge_sorted_lists(list1, list2)\n",
    "print(result)  # Output: [1, 2, 3, 4, 5, 6, 7, 8, 9, 10]\n"
   ]
  },
  {
   "cell_type": "code",
   "execution_count": 22,
   "id": "84b0f804-272a-48ad-86a6-e506ddbaf816",
   "metadata": {},
   "outputs": [
    {
     "name": "stdout",
     "output_type": "stream",
     "text": [
      "[4, 5]\n"
     ]
    }
   ],
   "source": [
    "# 18. Implement a code to find the intersection of two given lists\n",
    "\n",
    "def intersection(list1, list2):\n",
    "    # Convert both lists to sets for efficient membership testing\n",
    "    set1 = set(list1)\n",
    "    set2 = set(list2)\n",
    "    \n",
    "    # Find the intersection of the two sets\n",
    "    intersection_set = set1.intersection(set2)\n",
    "    \n",
    "    # Convert the intersection set back to a list\n",
    "    intersection_list = list(intersection_set)\n",
    "    \n",
    "    return intersection_list\n",
    "\n",
    "# Example usage\n",
    "list1 = [1, 2, 3, 4, 5]\n",
    "list2 = [4, 5, 6, 7, 8]\n",
    "result = intersection(list1, list2)\n",
    "print(result)  # Output: [4, 5]\n",
    "\n"
   ]
  },
  {
   "cell_type": "code",
   "execution_count": 23,
   "id": "18618b02-508f-48f8-b46c-0d5e2e4b1604",
   "metadata": {},
   "outputs": [
    {
     "name": "stdout",
     "output_type": "stream",
     "text": [
      "[1, 2, 3, 4, 5, 6, 7, 8]\n"
     ]
    }
   ],
   "source": [
    "# 19. Create a code to find the union of two lists without duplicates\n",
    "\n",
    "def union_without_duplicates(list1, list2):\n",
    "    # Convert both lists to sets to remove duplicates\n",
    "    set1 = set(list1)\n",
    "    set2 = set(list2)\n",
    "    \n",
    "    # Find the union of the two sets\n",
    "    union_set = set1.union(set2)\n",
    "    \n",
    "    # Convert the union set back to a list\n",
    "    union_list = list(union_set)\n",
    "    \n",
    "    return union_list\n",
    "\n",
    "# Example usage\n",
    "list1 = [1, 2, 3, 4, 5]\n",
    "list2 = [4, 5, 6, 7, 8]\n",
    "result = union_without_duplicates(list1, list2)\n",
    "print(result)  # Output: [1, 2, 3, 4, 5, 6, 7, 8]\n"
   ]
  },
  {
   "cell_type": "code",
   "execution_count": 24,
   "id": "fed97bb4-697d-4193-99d6-1185da3d244a",
   "metadata": {},
   "outputs": [
    {
     "name": "stdout",
     "output_type": "stream",
     "text": [
      "[3, 1, 4, 2, 5]\n"
     ]
    }
   ],
   "source": [
    "# 20. Write a code to shuffle a given list randomly without using any built-in shuffle functions\n",
    "\n",
    "import random\n",
    "\n",
    "def shuffle_list(lst):\n",
    "    # Start from the last element and iterate backwards\n",
    "    for i in range(len(lst) - 1, 0, -1):\n",
    "        # Generate a random index between 0 and i (inclusive)\n",
    "        j = random.randint(0, i)\n",
    "        # Swap the current element with the randomly selected one\n",
    "        lst[i], lst[j] = lst[j], lst[i]\n",
    "\n",
    "# Example usage\n",
    "my_list = [1, 2, 3, 4, 5]\n",
    "shuffle_list(my_list)\n",
    "print(my_list)  # Output: Randomly shuffled list\n"
   ]
  },
  {
   "cell_type": "code",
   "execution_count": 25,
   "id": "a23d3ffd-67df-4511-8f1c-b4e13d53cdcf",
   "metadata": {},
   "outputs": [
    {
     "name": "stdout",
     "output_type": "stream",
     "text": [
      "(4, 5)\n"
     ]
    }
   ],
   "source": [
    "# 21. Write a code that takes two tuples as input and returns a new tuple containing elements that are common to both input tuples\n",
    "\n",
    "def common_elements(tuple1, tuple2):\n",
    "    # Convert both tuples to sets\n",
    "    set1 = set(tuple1)\n",
    "    set2 = set(tuple2)\n",
    "    \n",
    "    # Find the intersection of the two sets\n",
    "    common_set = set1.intersection(set2)\n",
    "    \n",
    "    # Convert the common set back to a tuple\n",
    "    common_tuple = tuple(common_set)\n",
    "    \n",
    "    return common_tuple\n",
    "\n",
    "# Example usage\n",
    "tuple1 = (1, 2, 3, 4, 5)\n",
    "tuple2 = (4, 5, 6, 7, 8)\n",
    "result = common_elements(tuple1, tuple2)\n",
    "print(result)  # Output: (4, 5)\n"
   ]
  },
  {
   "cell_type": "code",
   "execution_count": 26,
   "id": "d39b5bdb-b7c3-4c81-9420-2538da5bfbba",
   "metadata": {},
   "outputs": [
    {
     "name": "stdin",
     "output_type": "stream",
     "text": [
      "Enter the first set of integers separated by commas:  1,2\n",
      "Enter the second set of integers separated by commas:  1,3\n"
     ]
    },
    {
     "name": "stdout",
     "output_type": "stream",
     "text": [
      "Intersection of the two sets: {1}\n"
     ]
    }
   ],
   "source": [
    "# 22. Create a code that prompts the user to enter two sets of integers separated by commas. Then, print the intersection of these two sets\n",
    "\n",
    "def get_intersection():\n",
    "    # Prompt the user to enter two sets of integers separated by commas\n",
    "    set1_input = input(\"Enter the first set of integers separated by commas: \")\n",
    "    set2_input = input(\"Enter the second set of integers separated by commas: \")\n",
    "    \n",
    "    # Convert the input strings to sets of integers\n",
    "    set1 = set(map(int, set1_input.split(',')))\n",
    "    set2 = set(map(int, set2_input.split(',')))\n",
    "    \n",
    "    # Find the intersection of the two sets\n",
    "    intersection_set = set1.intersection(set2)\n",
    "    \n",
    "    return intersection_set\n",
    "\n",
    "# Example usage\n",
    "intersection = get_intersection()\n",
    "print(\"Intersection of the two sets:\", intersection)\n"
   ]
  },
  {
   "cell_type": "code",
   "execution_count": 27,
   "id": "45a2705d-24ea-40db-9d65-77156f8152cc",
   "metadata": {},
   "outputs": [
    {
     "name": "stdout",
     "output_type": "stream",
     "text": [
      "(1, 2, 3, 4, 5, 6)\n"
     ]
    }
   ],
   "source": [
    "# 23. Write a code to concatenate two tuples. The function should take two tuples as input and return a new tuple containing elements from both input tuples\n",
    "\n",
    "def concatenate_tuples(tuple1, tuple2):\n",
    "    # Convert both tuples to lists\n",
    "    list1 = list(tuple1)\n",
    "    list2 = list(tuple2)\n",
    "    \n",
    "    # Concatenate the lists\n",
    "    concatenated_list = list1 + list2\n",
    "    \n",
    "    # Convert the concatenated list back to a tuple\n",
    "    concatenated_tuple = tuple(concatenated_list)\n",
    "    \n",
    "    return concatenated_tuple\n",
    "\n",
    "# Example usage\n",
    "tuple1 = (1, 2, 3)\n",
    "tuple2 = (4, 5, 6)\n",
    "result = concatenate_tuples(tuple1, tuple2)\n",
    "print(result)  # Output: (1, 2, 3, 4, 5, 6)\n"
   ]
  },
  {
   "cell_type": "code",
   "execution_count": 28,
   "id": "10bb7706-4f2a-4d96-bd51-5b96a0ebdcd9",
   "metadata": {},
   "outputs": [
    {
     "name": "stdin",
     "output_type": "stream",
     "text": [
      "Enter the first set of strings separated by commas:  1,2\n",
      "Enter the second set of strings separated by commas:  1,3\n"
     ]
    },
    {
     "name": "stdout",
     "output_type": "stream",
     "text": [
      "Elements in the first set but not in the second set: {'2'}\n"
     ]
    }
   ],
   "source": [
    "# 24. Develop a code that prompts the user to input two sets of strings. Then, print the elements that are present in the first set but not in the second set\n",
    "\n",
    "def elements_in_first_set_not_in_second():\n",
    "    # Prompt the user to enter two sets of strings separated by commas\n",
    "    set1_input = input(\"Enter the first set of strings separated by commas: \")\n",
    "    set2_input = input(\"Enter the second set of strings separated by commas: \")\n",
    "    \n",
    "    # Convert the input strings to sets of strings\n",
    "    set1 = set(set1_input.split(','))\n",
    "    set2 = set(set2_input.split(','))\n",
    "    \n",
    "    # Find the elements that are present in the first set but not in the second set\n",
    "    elements_only_in_first_set = set1 - set2\n",
    "    \n",
    "    return elements_only_in_first_set\n",
    "\n",
    "# Example usage\n",
    "result = elements_in_first_set_not_in_second()\n",
    "print(\"Elements in the first set but not in the second set:\", result)\n"
   ]
  },
  {
   "cell_type": "code",
   "execution_count": 29,
   "id": "602ad925-788a-4258-94a3-992f109121fe",
   "metadata": {},
   "outputs": [
    {
     "name": "stdout",
     "output_type": "stream",
     "text": [
      "Extracted tuple: (2, 3, 4)\n"
     ]
    }
   ],
   "source": [
    "# 25 Create a code that takes a tuple and two integers as input. The function should return a new tuple containing elements from the original tuple within the specified range of indices\n",
    "\n",
    "def extract_elements_within_range(tup, start_index, end_index):\n",
    "    # Extract elements from the original tuple within the specified range of indices\n",
    "    extracted_elements = tup[start_index:end_index + 1]\n",
    "    # Convert the extracted elements to a tuple\n",
    "    extracted_tuple = tuple(extracted_elements)\n",
    "    return extracted_tuple\n",
    "\n",
    "# Example usage\n",
    "original_tuple = (1, 2, 3, 4, 5)\n",
    "start_index = 1\n",
    "end_index = 3\n",
    "result = extract_elements_within_range(original_tuple, start_index, end_index)\n",
    "print(\"Extracted tuple:\", result)\n"
   ]
  },
  {
   "cell_type": "code",
   "execution_count": 30,
   "id": "d1b041b6-cdba-4ecb-8f43-4de3b6c19cb5",
   "metadata": {},
   "outputs": [
    {
     "name": "stdin",
     "output_type": "stream",
     "text": [
      "Enter the first set of characters separated by commas:  a,b\n",
      "Enter the second set of characters separated by commas:  b,d\n"
     ]
    },
    {
     "name": "stdout",
     "output_type": "stream",
     "text": [
      "Union of the two sets: {'b', 'd', 'a'}\n"
     ]
    }
   ],
   "source": [
    "# 26. Write a code that prompts the user to input two sets of characters. Then, print the union of these two sets\n",
    "\n",
    "def union_of_sets():\n",
    "    # Prompt the user to enter two sets of characters separated by commas\n",
    "    set1_input = input(\"Enter the first set of characters separated by commas: \")\n",
    "    set2_input = input(\"Enter the second set of characters separated by commas: \")\n",
    "    \n",
    "    # Convert the input strings to sets of characters\n",
    "    set1 = set(set1_input.split(','))\n",
    "    set2 = set(set2_input.split(','))\n",
    "    \n",
    "    # Find the union of the two sets\n",
    "    union_set = set1.union(set2)\n",
    "    \n",
    "    return union_set\n",
    "\n",
    "# Example usage\n",
    "result = union_of_sets()\n",
    "print(\"Union of the two sets:\", result)\n"
   ]
  },
  {
   "cell_type": "code",
   "execution_count": 32,
   "id": "f528ccd9-33df-4863-9bc2-4f9442a87305",
   "metadata": {},
   "outputs": [
    {
     "name": "stdout",
     "output_type": "stream",
     "text": [
      "Maximum value: 9\n",
      "Minimum value: 1\n"
     ]
    }
   ],
   "source": [
    "# 27. Develop a code that takes a tuple of integers as input. The function should return the maximum and minimum values from the tuple using tuple unpacking\n",
    "\n",
    "def find_max_min(tuple_of_integers):\n",
    "    # Use tuple unpacking to get maximum and minimum values\n",
    "    maximum = max(tuple_of_integers)\n",
    "    minimum = min(tuple_of_integers)\n",
    "    return maximum, minimum\n",
    "\n",
    "# Example usage\n",
    "tuple_of_integers = (1, 5, 3, 7, 2, 9)\n",
    "max_value, min_value = find_max_min(tuple_of_integers)\n",
    "print(\"Maximum value:\", max_value)\n",
    "print(\"Minimum value:\", min_value)\n"
   ]
  },
  {
   "cell_type": "code",
   "execution_count": 33,
   "id": "d96f5b22-570b-432d-ab04-bf5092fe1566",
   "metadata": {},
   "outputs": [
    {
     "name": "stdout",
     "output_type": "stream",
     "text": [
      "Set 1: {1, 2, 3, 4, 5}\n",
      "Set 2: {4, 5, 6, 7, 8}\n",
      "Union: {1, 2, 3, 4, 5, 6, 7, 8}\n",
      "Intersection: {4, 5}\n",
      "Difference (Set 1 - Set 2): {1, 2, 3}\n",
      "Difference (Set 2 - Set 1): {8, 6, 7}\n"
     ]
    }
   ],
   "source": [
    "# 28. & Create a code that defines two sets of integers. Then, print the union, intersection, and difference of these two sets\n",
    "\n",
    "def set_operations(set1, set2):\n",
    "    # Print the sets\n",
    "    print(\"Set 1:\", set1)\n",
    "    print(\"Set 2:\", set2)\n",
    "    \n",
    "    # Union\n",
    "    print(\"Union:\", set1.union(set2))\n",
    "    \n",
    "    # Intersection\n",
    "    print(\"Intersection:\", set1.intersection(set2))\n",
    "    \n",
    "    # Difference (elements in set1 but not in set2)\n",
    "    print(\"Difference (Set 1 - Set 2):\", set1.difference(set2))\n",
    "    \n",
    "    # Difference (elements in set2 but not in set1)\n",
    "    print(\"Difference (Set 2 - Set 1):\", set2.difference(set1))\n",
    "\n",
    "# Define two sets of integers\n",
    "set1 = {1, 2, 3, 4, 5}\n",
    "set2 = {4, 5, 6, 7, 8}\n",
    "\n",
    "# Perform set operations\n",
    "set_operations(set1, set2)\n"
   ]
  },
  {
   "cell_type": "code",
   "execution_count": 34,
   "id": "4f524a7f-7c8e-41f3-905d-5e909f0aa51f",
   "metadata": {},
   "outputs": [
    {
     "name": "stdout",
     "output_type": "stream",
     "text": [
      "Number of occurrences of 2 in the tuple: 3\n"
     ]
    }
   ],
   "source": [
    "# 29. Write a code that takes a tuple and an element as input. The function should return the count of occurrences of the given element in the tuple\n",
    "\n",
    "def count_occurrences(tuple_data, element):\n",
    "    # Return the count of occurrences of the given element in the tuple\n",
    "    return tuple_data.count(element)\n",
    "\n",
    "# Example usage\n",
    "tuple_data = (1, 2, 3, 4, 2, 5, 2)\n",
    "element_to_count = 2\n",
    "occurrences = count_occurrences(tuple_data, element_to_count)\n",
    "print(\"Number of occurrences of\", element_to_count, \"in the tuple:\", occurrences)\n",
    "\n"
   ]
  },
  {
   "cell_type": "code",
   "execution_count": 35,
   "id": "5ff6aa02-3859-4575-8f05-5fdcfdc626e5",
   "metadata": {},
   "outputs": [
    {
     "name": "stdin",
     "output_type": "stream",
     "text": [
      "Enter the first set of strings separated by commas:  1,2\n",
      "Enter the second set of strings separated by commas:  1,5\n"
     ]
    },
    {
     "name": "stdout",
     "output_type": "stream",
     "text": [
      "Symmetric difference of the two sets: {'2', '5'}\n"
     ]
    }
   ],
   "source": [
    "# 30. Develop a code that prompts the user to input two sets of strings. Then, print the symmetric difference of these two sets\n",
    "\n",
    "def symmetric_difference_of_sets():\n",
    "    # Prompt the user to enter two sets of strings separated by commas\n",
    "    set1_input = input(\"Enter the first set of strings separated by commas: \")\n",
    "    set2_input = input(\"Enter the second set of strings separated by commas: \")\n",
    "    \n",
    "    # Convert the input strings to sets of strings\n",
    "    set1 = set(set1_input.split(','))\n",
    "    set2 = set(set2_input.split(','))\n",
    "    \n",
    "    # Find the symmetric difference of the two sets\n",
    "    symmetric_difference_set = set1.symmetric_difference(set2)\n",
    "    \n",
    "    return symmetric_difference_set\n",
    "\n",
    "# Example usage\n",
    "result = symmetric_difference_of_sets()\n",
    "print(\"Symmetric difference of the two sets:\", result)\n"
   ]
  },
  {
   "cell_type": "code",
   "execution_count": 36,
   "id": "993620a2-7d58-45d4-8e31-14c45de1e75f",
   "metadata": {},
   "outputs": [
    {
     "name": "stdout",
     "output_type": "stream",
     "text": [
      "Word frequencies: {'apple': 3, 'banana': 2, 'orange': 1}\n"
     ]
    }
   ],
   "source": [
    "# 31. Write a code that takes a list of words as input and returns a dictionary where the keys are unique words and the values are the frequencies of those words in the input list\n",
    "\n",
    "def word_frequency(words_list):\n",
    "    # Initialize an empty dictionary to store word frequencies\n",
    "    frequency_dict = {}\n",
    "    \n",
    "    # Iterate over the words in the list\n",
    "    for word in words_list:\n",
    "        # Update the frequency of each word in the dictionary\n",
    "        frequency_dict[word] = frequency_dict.get(word, 0) + 1\n",
    "    \n",
    "    return frequency_dict\n",
    "\n",
    "# Example usage\n",
    "words_list = [\"apple\", \"banana\", \"apple\", \"orange\", \"banana\", \"apple\"]\n",
    "result = word_frequency(words_list)\n",
    "print(\"Word frequencies:\", result)\n",
    "\n"
   ]
  },
  {
   "cell_type": "code",
   "execution_count": 37,
   "id": "c54a368f-49a8-4995-84bd-f51237df5a09",
   "metadata": {},
   "outputs": [
    {
     "name": "stdout",
     "output_type": "stream",
     "text": [
      "Merged dictionary: {'a': 1, 'b': 5, 'c': 7, 'd': 5}\n"
     ]
    }
   ],
   "source": [
    "# 32. Write a code that takes two dictionaries as input and merges them into a single dictionary. If there are common keys, the values should be added together\n",
    "\n",
    "def merge_dictionaries(dict1, dict2):\n",
    "    # Initialize an empty dictionary to store the merged dictionary\n",
    "    merged_dict = {}\n",
    "    \n",
    "    # Update the merged dictionary with the key-value pairs from the first dictionary\n",
    "    for key, value in dict1.items():\n",
    "        merged_dict[key] = value\n",
    "    \n",
    "    # Update the merged dictionary with the key-value pairs from the second dictionary\n",
    "    for key, value in dict2.items():\n",
    "        # If the key already exists in the merged dictionary, add the values together\n",
    "        if key in merged_dict:\n",
    "            merged_dict[key] += value\n",
    "        # Otherwise, simply add the key-value pair to the merged dictionary\n",
    "        else:\n",
    "            merged_dict[key] = value\n",
    "    \n",
    "    return merged_dict\n",
    "\n",
    "# Example usage\n",
    "dict1 = {'a': 1, 'b': 2, 'c': 3}\n",
    "dict2 = {'b': 3, 'c': 4, 'd': 5}\n",
    "result = merge_dictionaries(dict1, dict2)\n",
    "print(\"Merged dictionary:\", result)\n"
   ]
  },
  {
   "cell_type": "code",
   "execution_count": null,
   "id": "f4150d1e-9126-45c6-8779-b8ad6c5d747d",
   "metadata": {},
   "outputs": [],
   "source": [
    "# 33. Write a code to access a value in a nested dictionary. The function should take the dictionary and a list of keys as input, and return the corresponding value. If any of the keys do not exist in the dictionary, the function should return None\n",
    "\n"
   ]
  }
 ],
 "metadata": {
  "kernelspec": {
   "display_name": "Python 3 (ipykernel)",
   "language": "python",
   "name": "python3"
  },
  "language_info": {
   "codemirror_mode": {
    "name": "ipython",
    "version": 3
   },
   "file_extension": ".py",
   "mimetype": "text/x-python",
   "name": "python",
   "nbconvert_exporter": "python",
   "pygments_lexer": "ipython3",
   "version": "3.10.8"
  }
 },
 "nbformat": 4,
 "nbformat_minor": 5
}
